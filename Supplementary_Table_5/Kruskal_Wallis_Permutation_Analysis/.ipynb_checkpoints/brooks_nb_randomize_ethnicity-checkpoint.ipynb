{
 "cells": [
  {
   "cell_type": "code",
   "execution_count": 1,
   "metadata": {
    "collapsed": false
   },
   "outputs": [
    {
     "name": "stdout",
     "output_type": "stream",
     "text": [
      " - Date: 14/11/2017 09:57:25 - \n"
     ]
    }
   ],
   "source": [
    "#!/usr/bin/env python\n",
    "\n",
    "### PRIMARY TOOLKITS ###\n",
    "import numpy as np # Numpy Numerical Toolkit\n",
    "import pandas as pd # Pandas Dataframes\n",
    "import scipy as sp  # Scipy Scientific Toolkit\n",
    "\n",
    "### PANDAS TOOLKITS ###\n",
    "import patsy # Regression Formatting\n",
    "import statsmodels.api as sm # StatsModels Statsistics Toolkit\n",
    "from statsmodels.sandbox.stats.multicomp import multipletests # Statsmodels p correction\n",
    "\n",
    "### PLOTTING ###\n",
    "import matplotlib.pyplot as plt\n",
    "import seaborn as sns\n",
    "%matplotlib inline\n",
    "\n",
    "### FUNCTIONALITY ###\n",
    "import os # Tool for terminal and operating system type calls\n",
    "import glob # Tool to Regex Search for Files\n",
    "import itertools # Iterate through data\n",
    "import time # Time and Date Tools\n",
    "import random # Generate Random Values\n",
    "import copy # Generate copy and deepcopy of objects\n",
    "random.seed(54321)  # Set Random Seed for Reproducibility\n",
    "\n",
    "### NOTEBOOK ###\n",
    "from IPython.display import display\n",
    "from IPython.core.interactiveshell import InteractiveShell # Set Notebook to Evaulate Variables on All Lines (not just last line)\n",
    "InteractiveShell.ast_node_interactivity = \"all\"\n",
    "from IPython.utils import io # Used to capture the output of cells and write to file\n",
    "\n",
    "### BROOKS TOOLS ###\n",
    "from brooks import *\n",
    "\n",
    "### PRINT DATE AND TIME ###\n",
    "print (' - Date: '+time.strftime(\"%d/%m/%Y\")+' '+time.strftime(\"%H:%M:%S\")+' - ')"
   ]
  },
  {
   "cell_type": "markdown",
   "metadata": {},
   "source": [
    "<h1 style=\"text-align:Center; color:orange;\">- Brooks Notebook -</h1>\n",
    "<h1 style=\"text-align:center; color:black;\">------------------------------------------------------------------------------</h1>\n",
    "<h4 style=\"text-align:center; color:blue;\">Andrew W. Brooks</h4>\n",
    "<h4 style=\"text-align:center; color:blue;\">Vanderbilt Genetics Institute</h4>\n",
    "<h4 style=\"text-align:center; color:blue;\">andrew.w.brooks(at)vanderbilt.edu</h4>\n",
    "<h1 style=\"text-align:center; color:black;\">------------------------------------------------------------------------------</h1>\n",
    "<h4 style=\"text-align:center; color:black;\">Released under the MIT and Beerware Licenses</h4>\n",
    "<h4 style=\"text-align:center; color:black;\">Copyright (c) 2017 Andrew W. Brooks</h4>\n",
    "<h4 style=\"text-align:center; color:black;\">\"MIT License\" - Permission is hereby granted, free of charge, to any person obtaining a copy of this software and associated documentation files (the \"Software\"), to deal in the Software without restriction, including without limitation the rights to use, copy, modify, merge, publish, distribute, sublicense, and/or sell copies of the Software, and to permit persons to whom the Software is furnished to do so, subject to the following conditions: The above copyright notice and this permission notice shall be included in all copies or substantial portions of the Software. The software is provided \"as is\", without warranty of any kind, express or implied, including but not limited to the warranties of merchantability, fitness for a particular purpose and noninfringement. In no event shall the authors or copyright holders be liable for any claim, damages or other liability, whether in an action of contract, tort or otherwise, arising from, out of or in connection with the software or the use or other dealings in the software.</h4>\n",
    "<h4 style=\"text-align:center; color:black;\">\"Beerware License\" - Andrew W. Brooks (2017) wrote this code. As long as you retain this notice and attribute my name, you can do whatever you want with this stuff. If we meet someday, and you think this stuff is worth it, you can buy me a beer in return.</h4>\n",
    "<h4 style=\"text-align:center; color:red;\"></h4>\n",
    "<h1 style=\"text-align:center; color:black;\">------------------------------------------------------------------------------</h1>"
   ]
  },
  {
   "cell_type": "markdown",
   "metadata": {
    "collapsed": true
   },
   "source": [
    "<h1 style=\"text-align:center; color:orange;\"> - Playplace -</h1>\n",
    "<h4 style=\"text-align:center; color:black;\"> Where all of your wildest dreams come true!</h4>"
   ]
  },
  {
   "cell_type": "markdown",
   "metadata": {},
   "source": [
    "<h3 style=\"text-align:center; color:blue;\"> - AGP - </h3>\n",
    "<h4 style=\"text-align:center; color:black;\"> Make mapping files with ethnicity randomized 1000 times </h4>"
   ]
  },
  {
   "cell_type": "code",
   "execution_count": null,
   "metadata": {
    "collapsed": false
   },
   "outputs": [],
   "source": [
    "### IMPORT MAPPING FILE ###\n",
    "mapAGP = pd.read_csv('./raw_data/agp/1_3_alpha_map_1000.txt', sep='\\t')"
   ]
  },
  {
   "cell_type": "code",
   "execution_count": null,
   "metadata": {
    "collapsed": false
   },
   "outputs": [],
   "source": [
    "### GET THE COLUMN OF INTEREST ###\n",
    "repCat = list(mapAGP['race'])\n",
    "\n",
    "### FOR THE NUMBER OF PERMUTATIONS ###\n",
    "for rep in np.arange(1000):\n",
    "    #print(rep)\n",
    "    ### SHUFFLE VALUES OF CATEGORY ###\n",
    "    np.random.shuffle(repCat)\n",
    "    ### CREATE NEW DATAFRAME WITH RANDOMIZED VALUES ###\n",
    "    repDF = pd.DataFrame(index=mapAGP['#SampleID'], columns=['race'], data=repCat)\n",
    "    ### SAVE RANDOMIZED MAP OF JUST CATEGORY ###\n",
    "    repDF.to_csv('./randomized_maps/agp/randomized_'+str(rep)+'.txt', sep='\\t')"
   ]
  },
  {
   "cell_type": "markdown",
   "metadata": {},
   "source": [
    "<h3 style=\"text-align:center; color:blue;\"> - HMP - </h3>\n",
    "<h4 style=\"text-align:center; color:black;\"> Make mapping files with ethnicity randomized 1000 times </h4>"
   ]
  },
  {
   "cell_type": "code",
   "execution_count": null,
   "metadata": {
    "collapsed": true
   },
   "outputs": [],
   "source": [
    "### IMPORT MAPPING FILE ###\n",
    "mapHMP = pd.read_csv('./raw_data/hmp/1_3_alpha_map_1000.txt', sep='\\t')"
   ]
  },
  {
   "cell_type": "code",
   "execution_count": null,
   "metadata": {
    "collapsed": false
   },
   "outputs": [],
   "source": [
    "### GET THE COLUMN OF INTEREST ###\n",
    "repCat = list(mapHMP['ethnicity'])\n",
    "\n",
    "### FOR THE NUMBER OF PERMUTATIONS ###\n",
    "for rep in np.arange(1000):\n",
    "    #print(rep)\n",
    "    ### SHUFFLE VALUES OF CATEGORY ###\n",
    "    np.random.shuffle(repCat)\n",
    "    ### CREATE NEW DATAFRAME WITH RANDOMIZED VALUES ###\n",
    "    repDF = pd.DataFrame(index=mapHMP['#SampleID'], columns=['ethnicity'], data=repCat)\n",
    "    ### SAVE RANDOMIZED MAP OF JUST CATEGORY ###\n",
    "    repDF.to_csv('./randomized_maps/hmp/randomized_'+str(rep)+'.txt', sep='\\t')"
   ]
  },
  {
   "cell_type": "markdown",
   "metadata": {},
   "source": [
    "<h3 style=\"text-align:center; color:blue;\"> - Collate Results - </h3>\n",
    "<h4 style=\"text-align:center; color:black;\"> Calculate Significance of permutations </h4>"
   ]
  },
  {
   "cell_type": "code",
   "execution_count": 39,
   "metadata": {
    "collapsed": false,
    "scrolled": true
   },
   "outputs": [
    {
     "name": "stdout",
     "output_type": "stream",
     "text": [
      "Taxonomic Level: 2\n",
      " Average Taxa Overlapping: 10.0\n",
      " Average Significant Taxa Overlapping: 0.0\n",
      "Taxonomic Level: 3\n",
      " Average Taxa Overlapping: 19.0\n",
      " Average Significant Taxa Overlapping: 0.0\n",
      "Taxonomic Level: 4\n",
      " Average Taxa Overlapping: 26.0\n",
      " Average Significant Taxa Overlapping: 0.0\n",
      "Taxonomic Level: 5\n",
      " Average Taxa Overlapping: 48.0\n",
      " Average Significant Taxa Overlapping: 0.001\n",
      "   Number Overlapping: 1\n",
      "Taxonomic Level: 6\n",
      " Average Taxa Overlapping: 96.0\n",
      " Average Significant Taxa Overlapping: 0.003\n",
      "   Number Overlapping: 1\n",
      "   Number Overlapping: 1\n",
      "   Number Overlapping: 1\n"
     ]
    }
   ],
   "source": [
    "dictOverlap = {}\n",
    "dictSig = {}\n",
    "\n",
    "### FOR EACH TAXONOMIC LEVEL ###\n",
    "for taxl in np.arange(2,7):\n",
    "    print('Taxonomic Level: '+str(taxl))\n",
    "    dictOverlap[taxl] = []\n",
    "    dictSig[taxl] = []\n",
    "    \n",
    "    ### FOR EACH AGP PERMUTATION AT TAXONOMIC LEVEL ###\n",
    "    for permIDX, permAGP in enumerate(glob.glob('./kw_results/agp/randomized/*L'+str(taxl)+'*')):\n",
    "        ### INPUT AGP PERMUTATION ###\n",
    "        resAGP = pd.read_csv(permAGP, sep='\\t')\n",
    "        ### INPUT HMP PERMUTATION ###\n",
    "        resHMP = pd.read_csv('./kw_results/hmp/randomized/kw_L'+str(taxl)+'_'+str(permIDX)+'.txt', sep='\\t')\n",
    "        ### REPLACE SPACES IN HMP NAME TO HAVE IDENTICAL OVERLAP ###\n",
    "        resHMP['OTU'] = resHMP['OTU'].str.replace(' ', '')\n",
    "        ### GET RESULTS ###\n",
    "        #print('Total Overlapping Taxa: '+str(len(pd.merge(resAGP, resHMP, how='inner', on=['OTU']))))\n",
    "        dictOverlap[taxl].append(len(pd.merge(resAGP, resHMP, how='inner', on=['OTU'])))\n",
    "        #print('Sig   Overlapping Taxa: '+str(len(pd.merge(resAGP[resAGP['FDR_P'] < 0.05], resHMP[resHMP['FDR_P'] < 0.05], how='inner', on=['OTU']))))\n",
    "        dictSig[taxl].append(len(pd.merge(resAGP[resAGP['FDR_P'] < 0.05], resHMP[resHMP['FDR_P'] < 0.05], how='inner', on=['OTU'])))\n",
    "            \n",
    "        \n",
    "    ### PRINT RESULTS ###\n",
    "    print(' Average Taxa Overlapping: '+str(np.mean(dictOverlap[taxl])))\n",
    "    print(' Average Significant Taxa Overlapping: '+str(np.mean(dictSig[taxl])))\n",
    "    \n",
    "    for i in dictSig[taxl]:\n",
    "        if i > 0: print('   Number Overlapping: '+str(i))\n"
   ]
  }
 ],
 "metadata": {
  "anaconda-cloud": {},
  "kernelspec": {
   "display_name": "Python [conda env:qiime2]",
   "language": "python",
   "name": "conda-env-qiime2-py"
  },
  "language_info": {
   "codemirror_mode": {
    "name": "ipython",
    "version": 3
   },
   "file_extension": ".py",
   "mimetype": "text/x-python",
   "name": "python",
   "nbconvert_exporter": "python",
   "pygments_lexer": "ipython3",
   "version": "3.5.2"
  }
 },
 "nbformat": 4,
 "nbformat_minor": 2
}
